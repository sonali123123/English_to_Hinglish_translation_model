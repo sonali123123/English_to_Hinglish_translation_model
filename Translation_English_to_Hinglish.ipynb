{
  "nbformat": 4,
  "nbformat_minor": 0,
  "metadata": {
    "colab": {
      "provenance": []
    },
    "kernelspec": {
      "name": "python3",
      "display_name": "Python 3"
    },
    "language_info": {
      "name": "python"
    }
  },
  "cells": [
    {
      "cell_type": "markdown",
      "source": [
        "**Libraries**"
      ],
      "metadata": {
        "id": "PPtrU0LW6h1I"
      }
    },
    {
      "cell_type": "code",
      "source": [
        "\n",
        "!pip install nltk\n",
        "!pip install googletrans==4.0.0-rc1\n",
        ""
      ],
      "metadata": {
        "colab": {
          "base_uri": "https://localhost:8080/"
        },
        "id": "wLTuSNUS4PJX",
        "outputId": "c3a0a4be-ad10-4cb3-910c-27429a0d0bdf"
      },
      "execution_count": 8,
      "outputs": [
        {
          "output_type": "stream",
          "name": "stdout",
          "text": [
            "Requirement already satisfied: nltk in /usr/local/lib/python3.10/dist-packages (3.8.1)\n",
            "Requirement already satisfied: click in /usr/local/lib/python3.10/dist-packages (from nltk) (8.1.7)\n",
            "Requirement already satisfied: joblib in /usr/local/lib/python3.10/dist-packages (from nltk) (1.3.2)\n",
            "Requirement already satisfied: regex>=2021.8.3 in /usr/local/lib/python3.10/dist-packages (from nltk) (2023.6.3)\n",
            "Requirement already satisfied: tqdm in /usr/local/lib/python3.10/dist-packages (from nltk) (4.66.1)\n",
            "Requirement already satisfied: googletrans==4.0.0-rc1 in /usr/local/lib/python3.10/dist-packages (4.0.0rc1)\n",
            "Requirement already satisfied: httpx==0.13.3 in /usr/local/lib/python3.10/dist-packages (from googletrans==4.0.0-rc1) (0.13.3)\n",
            "Requirement already satisfied: certifi in /usr/local/lib/python3.10/dist-packages (from httpx==0.13.3->googletrans==4.0.0-rc1) (2023.7.22)\n",
            "Requirement already satisfied: hstspreload in /usr/local/lib/python3.10/dist-packages (from httpx==0.13.3->googletrans==4.0.0-rc1) (2023.1.1)\n",
            "Requirement already satisfied: sniffio in /usr/local/lib/python3.10/dist-packages (from httpx==0.13.3->googletrans==4.0.0-rc1) (1.3.0)\n",
            "Requirement already satisfied: chardet==3.* in /usr/local/lib/python3.10/dist-packages (from httpx==0.13.3->googletrans==4.0.0-rc1) (3.0.4)\n",
            "Requirement already satisfied: idna==2.* in /usr/local/lib/python3.10/dist-packages (from httpx==0.13.3->googletrans==4.0.0-rc1) (2.10)\n",
            "Requirement already satisfied: rfc3986<2,>=1.3 in /usr/local/lib/python3.10/dist-packages (from httpx==0.13.3->googletrans==4.0.0-rc1) (1.5.0)\n",
            "Requirement already satisfied: httpcore==0.9.* in /usr/local/lib/python3.10/dist-packages (from httpx==0.13.3->googletrans==4.0.0-rc1) (0.9.1)\n",
            "Requirement already satisfied: h11<0.10,>=0.8 in /usr/local/lib/python3.10/dist-packages (from httpcore==0.9.*->httpx==0.13.3->googletrans==4.0.0-rc1) (0.9.0)\n",
            "Requirement already satisfied: h2==3.* in /usr/local/lib/python3.10/dist-packages (from httpcore==0.9.*->httpx==0.13.3->googletrans==4.0.0-rc1) (3.2.0)\n",
            "Requirement already satisfied: hyperframe<6,>=5.2.0 in /usr/local/lib/python3.10/dist-packages (from h2==3.*->httpcore==0.9.*->httpx==0.13.3->googletrans==4.0.0-rc1) (5.2.0)\n",
            "Requirement already satisfied: hpack<4,>=3.0 in /usr/local/lib/python3.10/dist-packages (from h2==3.*->httpcore==0.9.*->httpx==0.13.3->googletrans==4.0.0-rc1) (3.0.0)\n"
          ]
        }
      ]
    },
    {
      "cell_type": "code",
      "source": [
        "\n",
        "import re\n",
        "import nltk\n",
        "from nltk import pos_tag, word_tokenize\n",
        "from googletrans import Translator\n",
        "nltk.download('punkt')\n",
        "nltk.download('averaged_perceptron_tagger')"
      ],
      "metadata": {
        "colab": {
          "base_uri": "https://localhost:8080/"
        },
        "id": "ksKMGRPe5D-H",
        "outputId": "28cfa63e-084f-4589-8a95-be86c4ed56ba"
      },
      "execution_count": 9,
      "outputs": [
        {
          "output_type": "stream",
          "name": "stderr",
          "text": [
            "[nltk_data] Downloading package punkt to /root/nltk_data...\n",
            "[nltk_data]   Unzipping tokenizers/punkt.zip.\n",
            "[nltk_data] Downloading package averaged_perceptron_tagger to\n",
            "[nltk_data]     /root/nltk_data...\n",
            "[nltk_data]   Unzipping taggers/averaged_perceptron_tagger.zip.\n"
          ]
        },
        {
          "output_type": "execute_result",
          "data": {
            "text/plain": [
              "True"
            ]
          },
          "metadata": {},
          "execution_count": 9
        }
      ]
    },
    {
      "cell_type": "code",
      "source": [
        "# Function to find nouns in a sentence\n",
        "def find_nouns(sentence):\n",
        "    # Tokenize the sentence and get the part-of-speech tags\n",
        "    words = word_tokenize(sentence)\n",
        "    tags = pos_tag(words)\n",
        "\n",
        "    # Extract nouns from the tagged words\n",
        "    nouns = [word for word, tag in tags if tag in ['NN', 'NNS', 'NNP', 'NNPS']]\n",
        "\n",
        "    return nouns\n",
        "\n",
        "# Function to translate text to Hindi\n",
        "def translate_to_hindi(text):\n",
        "    translator = Translator()\n",
        "    translation = translator.translate(text, src='en', dest='hi')\n",
        "    return translation.text\n",
        "\n",
        "# Function to replace nouns in Hindi sentence with their English counterparts\n",
        "def replace_nouns_with_english(hindi_sentence, english_sentence):\n",
        "    # Find nouns in the English sentence\n",
        "    english_nouns = find_nouns(english_sentence)\n",
        "\n",
        "    # Translate the English nouns to Hindi\n",
        "    translated_nouns = [translate_to_hindi(noun) for noun in english_nouns]\n",
        "\n",
        "    # Create a dictionary to map translated nouns to their English counterparts\n",
        "    noun_mapping = {translated: original for original, translated in zip(english_nouns, translated_nouns)}\n",
        "\n",
        "    # Replace nouns in the Hindi sentence with their English counterparts\n",
        "    for hindi_noun, english_noun in noun_mapping.items():\n",
        "        hindi_sentence = hindi_sentence.replace(hindi_noun, english_noun)\n",
        "    return hindi_sentence"
      ],
      "metadata": {
        "id": "rJJOkHDG5MbW"
      },
      "execution_count": 11,
      "outputs": []
    },
    {
      "cell_type": "code",
      "source": [
        "\n",
        "# Test the function\n",
        "sentence = input(\"Enter a sentence: \")\n",
        "hindi_translation = translate_to_hindi(sentence)\n",
        "\n",
        "result_sentence = replace_nouns_with_english(hindi_translation, sentence)\n",
        "print(\"Hinglish Sentence:\", result_sentence)\n",
        ""
      ],
      "metadata": {
        "colab": {
          "base_uri": "https://localhost:8080/"
        },
        "id": "3Gq8UwGX5Vo6",
        "outputId": "98c59642-e88a-4718-9fb3-9f3118f17688"
      },
      "execution_count": 13,
      "outputs": [
        {
          "output_type": "stream",
          "name": "stdout",
          "text": [
            "Enter a sentence: I had about a 30 minute demo just using this new headset\n",
            "Hinglish Sentence: मेरे पास इस नए headset का उपयोग करके लगभग 30 minute का demo था\n"
          ]
        }
      ]
    },
    {
      "cell_type": "code",
      "source": [
        "\n",
        "# Test the function\n",
        "sentence = input(\"Enter a sentence: \")\n",
        "hindi_translation = translate_to_hindi(sentence)\n",
        "\n",
        "result_sentence = replace_nouns_with_english(hindi_translation, sentence)\n",
        "print(\"Hinglish Sentence:\", result_sentence)"
      ],
      "metadata": {
        "colab": {
          "base_uri": "https://localhost:8080/"
        },
        "id": "KTWJTyIW5cQG",
        "outputId": "c2efe71f-8521-4fa3-d99a-b2e914941bb3"
      },
      "execution_count": 14,
      "outputs": [
        {
          "output_type": "stream",
          "name": "stdout",
          "text": [
            "Enter a sentence: Definitely share your feedback in the comment section.\n",
            "Hinglish Sentence: निश्चित रूप से comment section में अपनी feedback साझा करें।\n"
          ]
        }
      ]
    },
    {
      "cell_type": "code",
      "source": [
        "# Test the function\n",
        "sentence = input(\"Enter a sentence: \")\n",
        "hindi_translation = translate_to_hindi(sentence)\n",
        "\n",
        "result_sentence = replace_nouns_with_english(hindi_translation, sentence)\n",
        "print(\"Hinglish Sentence:\", result_sentence)"
      ],
      "metadata": {
        "colab": {
          "base_uri": "https://localhost:8080/"
        },
        "id": "KjwB60g050c-",
        "outputId": "d56ebec2-45ab-43ab-961f-1a1ff6f806ab"
      },
      "execution_count": 15,
      "outputs": [
        {
          "output_type": "stream",
          "name": "stdout",
          "text": [
            "Enter a sentence:  So even if it's a big video, I will clearly mention all the products.\n",
            "Hinglish Sentence: तो भले ही यह एक बड़ा video है, मैं स्पष्ट रूप से सभी products का उल्लेख करूंगा।\n"
          ]
        }
      ]
    },
    {
      "cell_type": "code",
      "source": [
        "# Test the function\n",
        "sentence = input(\"Enter a sentence: \")\n",
        "hindi_translation = translate_to_hindi(sentence)\n",
        "\n",
        "result_sentence = replace_nouns_with_english(hindi_translation, sentence)\n",
        "print(\"Hinglish Sentence:\", result_sentence)"
      ],
      "metadata": {
        "colab": {
          "base_uri": "https://localhost:8080/"
        },
        "id": "oxGV376Q56vP",
        "outputId": "b8c8aec1-c29e-4cfb-aace-8bae2989b94a"
      },
      "execution_count": 16,
      "outputs": [
        {
          "output_type": "stream",
          "name": "stdout",
          "text": [
            "Enter a sentence:  I was waiting for my bag.\n",
            "Hinglish Sentence: मैं अपने बैग का इंतजार कर रहा था।\n"
          ]
        }
      ]
    },
    {
      "cell_type": "markdown",
      "source": [
        "**Thank You!!**"
      ],
      "metadata": {
        "id": "gFACBSmy6qyp"
      }
    }
  ]
}